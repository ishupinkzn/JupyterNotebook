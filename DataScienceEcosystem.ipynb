{
 "cells": [
  {
   "cell_type": "markdown",
   "metadata": {},
   "source": [
    "##Exercise 1\n",
    "\n",
    "Created a Jupyter Notebook called DataScienceEcosystem.ipynb"
   ]
  },
  {
   "cell_type": "markdown",
   "metadata": {},
   "source": [
    "##Exercise 2 Create a markdown cell with the title Data Science Tools and Ecosystem using H1 style heading.\n",
    "\n",
    "# Data Science Tools and Ecosystem\n"
   ]
  },
  {
   "cell_type": "markdown",
   "metadata": {},
   "source": [
    "##Exercise 3 - Create a markdown cell for an introduction\n",
    "\n",
    "# In this notebook, Data Science Tools and Ecosystem are summarized."
   ]
  },
  {
   "cell_type": "markdown",
   "metadata": {},
   "source": [
    "##Exercise 4 - Create a markdown cell to list data science languages\n",
    "\n",
    "Some of the popular languages that Data Scientists use are:\n",
    "1. R\n",
    "2. Python\n",
    "3. SQL\n",
    "4. Julia"
   ]
  },
  {
   "cell_type": "markdown",
   "metadata": {},
   "source": [
    "##Exercise 5 - Create a markdown cell to list data science libraries (3 or more)\n",
    "\n",
    "Some of the commonly used libraries used by Data Scientists include:\n",
    "1. Pandas\n",
    "2. Numpy\n",
    "3. Matplotlib"
   ]
  },
  {
   "cell_type": "markdown",
   "metadata": {},
   "source": [
    "##Exercise 6 - Create a markdown cell with a table of Data Science tools\n",
    "\n",
    "|Data Science Tools |\n",
    "|------------------ |\n",
    "|R Studio|\n",
    "|Jupyter Notebook|\n",
    "|VS Code|\n",
    "\n"
   ]
  },
  {
   "cell_type": "markdown",
   "metadata": {},
   "source": [
    "##Exercise 7 - Create a markdown cell introducing arithmetic expression examples\n",
    "\n",
    "### Below are a few examples of evaluating arithmetic expressions in Python"
   ]
  },
  {
   "cell_type": "markdown",
   "metadata": {},
   "source": [
    "##Exercise 8 - Create a code cell to multiply and add numbers\n",
    "\n",
    "This is a simple arithmetic expression to multiply then add integers"
   ]
  },
  {
   "cell_type": "code",
   "execution_count": 7,
   "metadata": {},
   "outputs": [
    {
     "name": "stdout",
     "output_type": "stream",
     "text": [
      "17\n"
     ]
    }
   ],
   "source": [
    "print ((3*4)+5)"
   ]
  },
  {
   "cell_type": "markdown",
   "metadata": {},
   "source": [
    "##Exercise 9 - Create a code cell to convert minutes to hours\n",
    "\n",
    "This will convert 200 minutes to hours by diving by 60"
   ]
  },
  {
   "cell_type": "code",
   "execution_count": 8,
   "metadata": {},
   "outputs": [
    {
     "name": "stdout",
     "output_type": "stream",
     "text": [
      "3.3333333333333335\n"
     ]
    }
   ],
   "source": [
    "print(200/60)"
   ]
  },
  {
   "cell_type": "markdown",
   "metadata": {},
   "source": [
    "##Exercise 10 - Insert a markdown cell to list Objectives (3 - 5 items)\n",
    "\n",
    "**Objectives**\n",
    "1. List popular languages for data science\n",
    "2. List commonly used libraries for data science\n",
    "3. List commonly used development environment tools for data science\n",
    "\n"
   ]
  },
  {
   "cell_type": "markdown",
   "metadata": {},
   "source": [
    "##Exercise 11 - Create a markdown cell to indicate the Author's name\n",
    "## Author\n",
    "Phillip"
   ]
  },
  {
   "cell_type": "markdown",
   "metadata": {},
   "source": [
    "##Exercise 12 - Share your notebook through GitHub\n",
    "\n",
    "Uploaded the Jupyter Notebook to Github"
   ]
  },
  {
   "cell_type": "markdown",
   "metadata": {},
   "source": [
    "##Exercise 13 -Take a screenshot of the first page of the notebook and save it \n",
    "##as 1-notebook.png(Images can be saved with either the .jpg or .png extension.)\n",
    "\n",
    "Took a screenshot of page 1 of the notebook"
   ]
  }
 ],
 "metadata": {
  "kernelspec": {
   "display_name": "Python 3",
   "language": "python",
   "name": "python3"
  },
  "language_info": {
   "codemirror_mode": {
    "name": "ipython",
    "version": 3
   },
   "file_extension": ".py",
   "mimetype": "text/x-python",
   "name": "python",
   "nbconvert_exporter": "python",
   "pygments_lexer": "ipython3",
   "version": "3.8.5"
  }
 },
 "nbformat": 4,
 "nbformat_minor": 4
}
